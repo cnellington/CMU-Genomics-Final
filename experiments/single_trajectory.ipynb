{
 "cells": [
  {
   "cell_type": "code",
   "execution_count": 69,
   "id": "premium-ghost",
   "metadata": {},
   "outputs": [],
   "source": [
    "import random\n",
    "import sys\n",
    "sys.path.append('..')\n",
    "\n",
    "import dataloader\n",
    "import utils\n",
    "import figures\n",
    "\n",
    "import pickle5 as pickle\n",
    "import numpy as np\n",
    "import pandas as pd"
   ]
  },
  {
   "cell_type": "code",
   "execution_count": 7,
   "id": "charming-unemployment",
   "metadata": {},
   "outputs": [
    {
     "name": "stderr",
     "output_type": "stream",
     "text": [
      "Variable names are not unique. To make them unique, call `.var_names_make_unique`.\n",
      "Variable names are not unique. To make them unique, call `.var_names_make_unique`.\n",
      "Trying to set attribute `.var` of view, copying.\n"
     ]
    }
   ],
   "source": [
    "samples, sample_genes, sample_barcodes = dataloader.load_processed_spots()\n",
    "positions = dataloader.load_positions(sample_barcodes, positions_path='../data/spatial/tissue_positions_list.csv')"
   ]
  },
  {
   "cell_type": "code",
   "execution_count": 34,
   "id": "noted-rapid",
   "metadata": {},
   "outputs": [
    {
     "data": {
      "text/plain": [
       "((2896, 30), 30, 2896)"
      ]
     },
     "execution_count": 34,
     "metadata": {},
     "output_type": "execute_result"
    }
   ],
   "source": [
    "samples.shape, len(sample_genes), len(sample_barcodes)"
   ]
  },
  {
   "cell_type": "code",
   "execution_count": 108,
   "id": "peaceful-basin",
   "metadata": {},
   "outputs": [],
   "source": [
    "# get times\n",
    "timedict = pickle.load(open('../data/pseudo_exprdist.pickle', 'rb+'))\n",
    "times = np.array(list(timedict.keys()))\n",
    "time_barcodes = np.array(list(timedict.values()))\n",
    "idx = np.argsort(times)\n",
    "times = times[idx]\n",
    "time_barcodes = time_barcodes[idx]"
   ]
  },
  {
   "cell_type": "code",
   "execution_count": 109,
   "id": "specific-aerospace",
   "metadata": {},
   "outputs": [],
   "source": [
    "train_idx = np.zeros(len(times))\n",
    "train_idx[::2] = 1\n",
    "train_idx = train_idx.astype(bool)"
   ]
  },
  {
   "cell_type": "code",
   "execution_count": 110,
   "id": "daily-preparation",
   "metadata": {},
   "outputs": [],
   "source": [
    "def make_df(barcode_timeseries):\n",
    "    time_idx = [sample_barcodes.index(barcode) for barcode in barcode_timeseries]\n",
    "    df = pd.DataFrame(samples[time_idx], columns=sample_genes)\n",
    "    return df\n",
    "\n",
    "train_df = make_df(time_barcodes[train_idx])\n",
    "test_df = make_df(time_barcodes[~train_idx])"
   ]
  },
  {
   "cell_type": "code",
   "execution_count": 111,
   "id": "demonstrated-utility",
   "metadata": {},
   "outputs": [],
   "source": [
    "lags = 2\n",
    "W_dy = utils.learn_dbn(train_df, lags)"
   ]
  },
  {
   "cell_type": "code",
   "execution_count": 112,
   "id": "round-petroleum",
   "metadata": {},
   "outputs": [
    {
     "data": {
      "text/plain": [
       "0.1280684980434823"
      ]
     },
     "execution_count": 112,
     "metadata": {},
     "output_type": "execute_result"
    }
   ],
   "source": [
    "true_mse = utils.mse(W_dy, test_df, lags)\n",
    "true_mse"
   ]
  },
  {
   "cell_type": "code",
   "execution_count": 113,
   "id": "silent-restoration",
   "metadata": {},
   "outputs": [
    {
     "name": "stdout",
     "output_type": "stream",
     "text": [
      "0\n",
      "1\n",
      "2\n",
      "3\n",
      "4\n",
      "5\n",
      "6\n",
      "7\n",
      "8\n",
      "9\n",
      "10\n",
      "11\n",
      "12\n",
      "13\n",
      "14\n",
      "15\n",
      "16\n",
      "17\n",
      "18\n",
      "19\n",
      "20\n",
      "21\n",
      "22\n",
      "23\n",
      "24\n"
     ]
    },
    {
     "data": {
      "text/plain": [
       "(0.1280684980434823,\n",
       " array([0.13301361, 0.13252257, 0.13281059, 0.13291727, 0.13356909,\n",
       "        0.1328262 , 0.13371927, 0.13397408, 0.1333559 , 0.13266774,\n",
       "        0.13306556, 0.13346569, 0.1334188 , 0.13341722, 0.13277946,\n",
       "        0.13291347, 0.13266345, 0.13288173, 0.13177952, 0.13274451,\n",
       "        0.13372814, 0.13219865, 0.1331796 , 0.13327074, 0.13301667]))"
      ]
     },
     "execution_count": 113,
     "metadata": {},
     "output_type": "execute_result"
    }
   ],
   "source": [
    "# test significance\n",
    "n = 25\n",
    "mses = np.zeros(n)\n",
    "for i in range(n):\n",
    "    print(i)\n",
    "    train_barcodes = time_barcodes[train_idx]\n",
    "    random.shuffle(train_barcodes)\n",
    "    random_df = make_df(train_barcodes)\n",
    "    random_W = utils.learn_dbn(random_df, lags)\n",
    "    random_mse = utils.mse(random_W, test_df, lags)\n",
    "    mses[i] = random_mse\n",
    "true_mse, mses"
   ]
  },
  {
   "cell_type": "code",
   "execution_count": 114,
   "id": "drawn-answer",
   "metadata": {},
   "outputs": [
    {
     "data": {
      "text/plain": [
       "-10.24030910278509"
      ]
     },
     "execution_count": 114,
     "metadata": {},
     "output_type": "execute_result"
    }
   ],
   "source": [
    "(true_mse - np.mean(mses))/ np.std(mses)"
   ]
  },
  {
   "cell_type": "code",
   "execution_count": 115,
   "id": "pending-vaccine",
   "metadata": {},
   "outputs": [
    {
     "data": {
      "text/plain": [
       "array([ True,  True,  True,  True,  True,  True,  True,  True,  True,\n",
       "        True,  True,  True,  True,  True,  True,  True,  True,  True,\n",
       "        True,  True,  True,  True,  True,  True,  True])"
      ]
     },
     "execution_count": 115,
     "metadata": {},
     "output_type": "execute_result"
    }
   ],
   "source": [
    "true_mse < mses"
   ]
  },
  {
   "cell_type": "code",
   "execution_count": null,
   "id": "sunset-insured",
   "metadata": {},
   "outputs": [],
   "source": []
  }
 ],
 "metadata": {
  "kernelspec": {
   "display_name": "Python [conda env:genomics]",
   "language": "python",
   "name": "conda-env-genomics-py"
  },
  "language_info": {
   "codemirror_mode": {
    "name": "ipython",
    "version": 3
   },
   "file_extension": ".py",
   "mimetype": "text/x-python",
   "name": "python",
   "nbconvert_exporter": "python",
   "pygments_lexer": "ipython3",
   "version": "3.7.8"
  }
 },
 "nbformat": 4,
 "nbformat_minor": 5
}
