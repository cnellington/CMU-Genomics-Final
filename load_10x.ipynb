{
 "cells": [
  {
   "cell_type": "markdown",
   "metadata": {},
   "source": [
    "## Tutorial for Loading the Breast Cancer 10X Genomics Spatial Transcriptomics Dataset\n",
    "\n",
    "1. Go to this website: https://support.10xgenomics.com/spatial-gene-expression/datasets/1.2.0/Parent_Visium_Human_BreastCancer\n",
    "2. Download the following files:\n",
    "- 'Image'\n",
    "- 'Feature / cell matrix (filtered)'\n",
    "- 'Clustering analysis'\n",
    "- 'Spatial imaging data'\n",
    "- 'Summary CSV'"
   ]
  },
  {
   "cell_type": "code",
   "execution_count": 1,
   "metadata": {},
   "outputs": [],
   "source": [
    "import csv\n",
    "import gzip\n",
    "import os\n",
    "import os.path as osp\n",
    "import numpy as np\n",
    "import scipy.io\n",
    "\n",
    "data_dir = './data'\n",
    "mat_dir = osp.join(data_dir, 'filtered_feature_bc_matrix') # Decompressed 'feature/cell matrix (filtered)' file\n",
    "mat_path = osp.join(mat_dir, 'matrix.mtx.gz')\n",
    "features_path = osp.join(mat_dir, 'features.tsv.gz')\n",
    "barcodes_path = osp.join(mat_dir, 'barcodes.tsv.gz')"
   ]
  },
  {
   "cell_type": "code",
   "execution_count": 2,
   "metadata": {},
   "outputs": [],
   "source": [
    "mat = scipy.io.mmread(mat_path).todense() # (36601, 4325)\n",
    "feature_ids = [row[0] for row in csv.reader(gzip.open(features_path, 'rt'), delimiter='\\t')] # Ensembl IDs\n",
    "gene_names = [row[1] for row in csv.reader(gzip.open(features_path, 'rt'), delimiter='\\t')] # Gene Names\n",
    "feature_types = [row[2] for row in csv.reader(gzip.open(features_path, 'rt'), delimiter='\\t')] # \"Gene Expression\"\n",
    "barcodes = [row[0] for row in csv.reader(gzip.open(barcodes_path, 'rt'), delimiter='\\t')] # 4325 different positions"
   ]
  },
  {
   "cell_type": "code",
   "execution_count": 3,
   "metadata": {},
   "outputs": [
    {
     "name": "stdout",
     "output_type": "stream",
     "text": [
      "Number of Genes: 36601, Number of Spots: 4325\n"
     ]
    }
   ],
   "source": [
    "print('Number of Genes: {}, Number of Spots: {}'.format(*mat.shape))"
   ]
  },
  {
   "cell_type": "code",
   "execution_count": 4,
   "metadata": {},
   "outputs": [
    {
     "name": "stdout",
     "output_type": "stream",
     "text": [
      "Ensembl IDs for Genes:\n",
      "['ENSG00000243485', 'ENSG00000237613', 'ENSG00000186092', 'ENSG00000238009', 'ENSG00000239945', 'ENSG00000239906', 'ENSG00000241860', 'ENSG00000241599', 'ENSG00000286448', 'ENSG00000236601']\n"
     ]
    }
   ],
   "source": [
    "print('Ensembl IDs for Genes:')\n",
    "print(feature_ids[:10]) # Just the first 100\n",
    "assert(len(feature_ids) == mat.shape[0]) # Check that Ensembl IDs match up"
   ]
  },
  {
   "cell_type": "code",
   "execution_count": 5,
   "metadata": {},
   "outputs": [
    {
     "name": "stdout",
     "output_type": "stream",
     "text": [
      "Gene Names:\n",
      "['MIR1302-2HG', 'FAM138A', 'OR4F5', 'AL627309.1', 'AL627309.3', 'AL627309.2', 'AL627309.5', 'AL627309.4', 'AP006222.2', 'AL732372.1']\n"
     ]
    }
   ],
   "source": [
    "print('Gene Names:')\n",
    "print(gene_names[:10]) # Just the first 100\n",
    "assert(len(gene_names) == mat.shape[0]) # Check that gene names match up"
   ]
  },
  {
   "cell_type": "code",
   "execution_count": 6,
   "metadata": {},
   "outputs": [],
   "source": [
    "# Tissue position list\n",
    "tissue_pos_path = osp.join(data_dir, 'spatial/tissue_positions_list.csv')\n",
    "barcode_to_pos = {}\n",
    "\n",
    "with open(tissue_pos_path, 'r') as fh:\n",
    "    reader = csv.reader(fh)\n",
    "    \n",
    "    # in_tissue = binary value indicating whether spot falls inside or outside of tissue\n",
    "    for line in reader:\n",
    "        barcode, in_tissue, row_coord, col_coord, pxl_col_in_fullres, pxl_row_in_full_res = line\n",
    "        barcode_to_pos[line[0]] = np.array(line)[1:].astype(np.int32)"
   ]
  },
  {
   "cell_type": "code",
   "execution_count": 8,
   "metadata": {},
   "outputs": [
    {
     "name": "stdout",
     "output_type": "stream",
     "text": [
      "['ACGCCTGACACGCGCT-1', 'TACCGATCCAACACTT-1', 'ATTAAAGCGGACGAGC-1', 'GATAAGGGACGATTAG-1', 'GTGCAAATCACCAATA-1', 'TGTTGGCTGGCGGAAG-1', 'GCATCCTCTCCTATTA-1', 'GCGAGGGACTGCTAGA-1', 'TGGTACCGGCACAGCC-1', 'GCGCGTTTAAATCGTA-1']\n",
      "[   1    0    0 3910 3159]\n"
     ]
    }
   ],
   "source": [
    "# Barcodes associated with each spot\n",
    "print(list(barcode_to_pos.keys())[:10])\n",
    "print(barcode_to_pos['ACGCCTGACACGCGCT-1'])"
   ]
  },
  {
   "cell_type": "markdown",
   "metadata": {},
   "source": [
    "You can read more about the entries in 'tissue_positions_list.csv' here: https://support.10xgenomics.com/spatial-gene-expression/software/pipelines/latest/output/images"
   ]
  },
  {
   "cell_type": "markdown",
   "metadata": {},
   "source": [
    "# CausalNex"
   ]
  },
  {
   "cell_type": "code",
   "execution_count": 31,
   "metadata": {},
   "outputs": [],
   "source": [
    "from causalnex.structure import dynotears\n",
    "import pandas as pd"
   ]
  },
  {
   "cell_type": "code",
   "execution_count": 53,
   "metadata": {},
   "outputs": [],
   "source": [
    "# mat: genes x samples\n",
    "# Get a toy dataframe (rows=samples, cols=genes, indices=timesteps)\n",
    "samples = mat[:30,:30].T\n",
    "sample_genes = gene_names[:30]\n",
    "sample_df = pd.DataFrame(samples, columns=sample_genes)\n",
    "\n",
    "# Transform data to 2 timestep lags, create structure model\n",
    "ddt = dynotears.DynamicDataTransformer(2)\n",
    "x, xlags = ddt.fit_transform(sample_df, return_df=False)\n",
    "W = dynotears.from_numpy_dynamic(x, xlags)"
   ]
  },
  {
   "cell_type": "code",
   "execution_count": 1,
   "metadata": {},
   "outputs": [],
   "source": [
    "# TODO: Fix network visualization\n",
    "\n",
    "# from IPython.display import Image\n",
    "# from causalnex.plots import plot_structure, NODE_STYLE, EDGE_STYLE\n",
    "\n",
    "# viz = plot_structure(\n",
    "#     W,\n",
    "#     graph_attributes={\"scale\": \"0.5\"},\n",
    "#     all_node_attributes=NODE_STYLE.WEAK,\n",
    "#     all_edge_attributes=EDGE_STYLE.WEAK)\n",
    "# Image(viz.draw(format='png'))"
   ]
  },
  {
   "cell_type": "code",
   "execution_count": 57,
   "metadata": {},
   "outputs": [
    {
     "name": "stdout",
     "output_type": "stream",
     "text": [
      "('0_lag0', {})\n",
      "('1_lag0', {})\n",
      "('2_lag0', {})\n",
      "('3_lag0', {})\n",
      "('4_lag0', {})\n",
      "('5_lag0', {})\n",
      "('6_lag0', {})\n",
      "('7_lag0', {})\n",
      "('8_lag0', {})\n",
      "('9_lag0', {})\n",
      "('10_lag0', {})\n",
      "('11_lag0', {})\n",
      "('12_lag0', {})\n",
      "('13_lag0', {})\n",
      "('14_lag0', {'25_lag0': {'origin': 'unknown', 'weight': 0.07722318536309762}, '26_lag0': {'origin': 'unknown', 'weight': 2.6121025351487493e-05}})\n",
      "('15_lag0', {})\n",
      "('16_lag0', {'24_lag0': {'origin': 'unknown', 'weight': 0.4085663121095229}, '29_lag0': {'origin': 'unknown', 'weight': 1.1382963322265969}})\n",
      "('17_lag0', {})\n",
      "('18_lag0', {'24_lag0': {'origin': 'unknown', 'weight': 0.26704441559272063}})\n",
      "('19_lag0', {})\n",
      "('20_lag0', {})\n",
      "('21_lag0', {})\n",
      "('22_lag0', {})\n",
      "('23_lag0', {'29_lag0': {'origin': 'unknown', 'weight': 4.846186237757162}})\n",
      "('24_lag0', {'14_lag0': {'origin': 'unknown', 'weight': 0.019873158955101045}, '16_lag0': {'origin': 'unknown', 'weight': 3.1293873466479694e-05}, '18_lag0': {'origin': 'unknown', 'weight': 2.3274145687132982e-05}, '25_lag0': {'origin': 'unknown', 'weight': 0.07679255004811031}, '28_lag0': {'origin': 'unknown', 'weight': 0.05641730962631669}, '29_lag0': {'origin': 'unknown', 'weight': -0.36301278632795414}})\n",
      "('25_lag0', {'14_lag0': {'origin': 'unknown', 'weight': 0.0001162744161201052}, '24_lag0': {'origin': 'unknown', 'weight': 0.00037959409329838825}})\n",
      "('26_lag0', {'14_lag0': {'origin': 'unknown', 'weight': 0.19300556262023014}})\n",
      "('27_lag0', {'29_lag0': {'origin': 'unknown', 'weight': 2.862712326716722}})\n",
      "('28_lag0', {'29_lag0': {'origin': 'unknown', 'weight': 1.6444128710385766}})\n",
      "('29_lag0', {'16_lag0': {'origin': 'unknown', 'weight': 6.442164020156861e-06}, '18_lag0': {'origin': 'unknown', 'weight': 0.0011683984168227015}, '22_lag0': {'origin': 'unknown', 'weight': 0.00959633779892499}, '23_lag0': {'origin': 'unknown', 'weight': 9.105699613174197e-07}, '24_lag0': {'origin': 'unknown', 'weight': -6.543133917170449e-05}, '25_lag0': {'origin': 'unknown', 'weight': 0.04161787494652075}, '26_lag0': {'origin': 'unknown', 'weight': 0.00458753405182822}, '27_lag0': {'origin': 'unknown', 'weight': 2.186652733369625e-06}, '28_lag0': {'origin': 'unknown', 'weight': 6.8575295459147066e-06}})\n",
      "('0_lag1', {})\n",
      "('1_lag1', {})\n",
      "('2_lag1', {})\n",
      "('3_lag1', {})\n",
      "('4_lag1', {})\n",
      "('5_lag1', {})\n",
      "('6_lag1', {})\n",
      "('7_lag1', {})\n",
      "('8_lag1', {})\n",
      "('9_lag1', {})\n",
      "('10_lag1', {})\n",
      "('11_lag1', {})\n",
      "('12_lag1', {})\n",
      "('13_lag1', {})\n",
      "('14_lag1', {'29_lag0': {'origin': 'unknown', 'weight': 1.5347758763369679}})\n",
      "('15_lag1', {})\n",
      "('16_lag1', {'29_lag0': {'origin': 'unknown', 'weight': 0.02659310653295804}})\n",
      "('17_lag1', {})\n",
      "('18_lag1', {})\n",
      "('19_lag1', {})\n",
      "('20_lag1', {})\n",
      "('21_lag1', {})\n",
      "('22_lag1', {})\n",
      "('23_lag1', {})\n",
      "('24_lag1', {'16_lag0': {'origin': 'unknown', 'weight': 0.0018668332761915575}, '24_lag0': {'origin': 'unknown', 'weight': 0.10874208438704794}, '25_lag0': {'origin': 'unknown', 'weight': -0.023862309200310305}, '28_lag0': {'origin': 'unknown', 'weight': 0.025977298919768164}, '29_lag0': {'origin': 'unknown', 'weight': -0.07531837090886115}})\n",
      "('25_lag1', {'24_lag0': {'origin': 'unknown', 'weight': 0.6015829969933776}, '28_lag0': {'origin': 'unknown', 'weight': 0.0001377316454769579}, '29_lag0': {'origin': 'unknown', 'weight': 0.4727247103750632}})\n",
      "('26_lag1', {})\n",
      "('27_lag1', {})\n",
      "('28_lag1', {'28_lag0': {'origin': 'unknown', 'weight': 0.06839513656733541}})\n",
      "('29_lag1', {'14_lag0': {'origin': 'unknown', 'weight': 0.031989733071323724}, '17_lag0': {'origin': 'unknown', 'weight': 0.00921985815602837}, '23_lag0': {'origin': 'unknown', 'weight': 0.00305776193401454}, '24_lag0': {'origin': 'unknown', 'weight': -0.014254742581001572}, '26_lag0': {'origin': 'unknown', 'weight': -0.001212934594960979}, '27_lag0': {'origin': 'unknown', 'weight': 0.005673260523951201}, '28_lag0': {'origin': 'unknown', 'weight': 0.0036499519095201326}, '29_lag0': {'origin': 'unknown', 'weight': 0.223167120966859}})\n",
      "('0_lag2', {})\n",
      "('1_lag2', {})\n",
      "('2_lag2', {})\n",
      "('3_lag2', {})\n",
      "('4_lag2', {})\n",
      "('5_lag2', {})\n",
      "('6_lag2', {})\n",
      "('7_lag2', {})\n",
      "('8_lag2', {})\n",
      "('9_lag2', {})\n",
      "('10_lag2', {})\n",
      "('11_lag2', {})\n",
      "('12_lag2', {})\n",
      "('13_lag2', {})\n",
      "('14_lag2', {})\n",
      "('15_lag2', {})\n",
      "('16_lag2', {'28_lag0': {'origin': 'unknown', 'weight': 6.632703147102612e-05}, '29_lag0': {'origin': 'unknown', 'weight': 0.19151884072484046}})\n",
      "('17_lag2', {})\n",
      "('18_lag2', {})\n",
      "('19_lag2', {})\n",
      "('20_lag2', {})\n",
      "('21_lag2', {})\n",
      "('22_lag2', {})\n",
      "('23_lag2', {})\n",
      "('24_lag2', {'14_lag0': {'origin': 'unknown', 'weight': 0.008389211783717097}, '18_lag0': {'origin': 'unknown', 'weight': 0.061532606584536235}, '23_lag0': {'origin': 'unknown', 'weight': 0.03760703443271447}, '24_lag0': {'origin': 'unknown', 'weight': 0.09139242589914012}, '25_lag0': {'origin': 'unknown', 'weight': 0.18471985924081552}, '26_lag0': {'origin': 'unknown', 'weight': 0.0008103562362274647}, '28_lag0': {'origin': 'unknown', 'weight': 0.05570858505769578}, '29_lag0': {'origin': 'unknown', 'weight': 0.1580466686324752}})\n",
      "('25_lag2', {'24_lag0': {'origin': 'unknown', 'weight': 0.011120301693291404}})\n",
      "('26_lag2', {'24_lag0': {'origin': 'unknown', 'weight': 0.8133445649355228}})\n",
      "('27_lag2', {})\n",
      "('28_lag2', {})\n",
      "('29_lag2', {'6_lag0': {'origin': 'unknown', 'weight': 0.007567567567567549}, '14_lag0': {'origin': 'unknown', 'weight': 0.023929401432265508}, '16_lag0': {'origin': 'unknown', 'weight': 0.04138963590149034}, '18_lag0': {'origin': 'unknown', 'weight': 0.013197245718224225}, '22_lag0': {'origin': 'unknown', 'weight': -0.0001940366635238772}, '24_lag0': {'origin': 'unknown', 'weight': 0.1123856671207913}, '25_lag0': {'origin': 'unknown', 'weight': -0.015751865915526193}, '26_lag0': {'origin': 'unknown', 'weight': 0.03621625746434671}, '29_lag0': {'origin': 'unknown', 'weight': 0.1895830182864371}})\n"
     ]
    }
   ],
   "source": [
    "# Explore DBN structure format\n",
    "for val in W.adjacency():\n",
    "    print(val)"
   ]
  },
  {
   "cell_type": "code",
   "execution_count": null,
   "metadata": {},
   "outputs": [],
   "source": []
  }
 ],
 "metadata": {
  "kernelspec": {
   "display_name": "Python [conda env:genomics]",
   "language": "python",
   "name": "conda-env-genomics-py"
  },
  "language_info": {
   "codemirror_mode": {
    "name": "ipython",
    "version": 3
   },
   "file_extension": ".py",
   "mimetype": "text/x-python",
   "name": "python",
   "nbconvert_exporter": "python",
   "pygments_lexer": "ipython3",
   "version": "3.7.8"
  }
 },
 "nbformat": 4,
 "nbformat_minor": 4
}
